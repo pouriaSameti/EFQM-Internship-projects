{
 "cells": [
  {
   "cell_type": "code",
   "execution_count": null,
   "outputs": [],
   "source": [
    "from google.colab import drive\n",
    "drive.mount('/content/drive')"
   ],
   "metadata": {
    "collapsed": false
   }
  },
  {
   "cell_type": "markdown",
   "source": [
    "Import Libraries"
   ],
   "metadata": {
    "collapsed": false
   }
  },
  {
   "cell_type": "code",
   "execution_count": null,
   "outputs": [],
   "source": [
    "import pandas as pd\n",
    "import numpy as np\n",
    "import matplotlib.pyplot as plt\n",
    "import seaborn as sns\n",
    "\n",
    "import tensorflow as tf\n",
    "from tensorflow.keras.models import Sequential\n",
    "from tensorflow.keras.layers import Dense, Dropout, LeakyReLU, SimpleRNN, LSTM, Masking, GRU"
   ],
   "metadata": {
    "collapsed": false
   }
  },
  {
   "cell_type": "markdown",
   "source": [
    "Reading Dataset"
   ],
   "metadata": {
    "collapsed": false
   }
  },
  {
   "cell_type": "code",
   "execution_count": null,
   "outputs": [],
   "source": [
    "ds = pd.read_csv('/content/drive/MyDrive/EFQM/5-Multi label classification/Multivariate_pollution.csv')\n",
    "ds.head()"
   ],
   "metadata": {
    "collapsed": false
   }
  },
  {
   "cell_type": "markdown",
   "source": [
    "Check target values"
   ],
   "metadata": {
    "collapsed": false
   }
  },
  {
   "cell_type": "code",
   "execution_count": null,
   "outputs": [],
   "source": [
    "print('snow data', ds['snow'].unique())\n",
    "print('rain data', ds['rain'].unique())"
   ],
   "metadata": {
    "collapsed": false
   }
  },
  {
   "cell_type": "markdown",
   "source": [
    "Checking all data"
   ],
   "metadata": {
    "collapsed": false
   }
  },
  {
   "cell_type": "code",
   "execution_count": null,
   "outputs": [],
   "source": [
    "ds.info()"
   ],
   "metadata": {
    "collapsed": false
   }
  },
  {
   "cell_type": "markdown",
   "source": [
    "Creating time features"
   ],
   "metadata": {
    "collapsed": false
   }
  },
  {
   "cell_type": "code",
   "execution_count": null,
   "outputs": [],
   "source": [
    "ds['date'] = pd.to_datetime(ds['date'])\n",
    "ds['year'] = ds['date'].dt.year\n",
    "ds['month'] = ds['date'].dt.month\n",
    "ds['day'] = ds['date'].dt.day\n",
    "ds['hour'] = ds['date'].dt.hour\n",
    "\n",
    "\n",
    "ds.drop(['date'], axis=1, inplace=True)\n",
    "ds.head()"
   ],
   "metadata": {
    "collapsed": false
   }
  },
  {
   "cell_type": "markdown",
   "source": [
    "create dummy data from wind_dir feature"
   ],
   "metadata": {
    "collapsed": false
   }
  },
  {
   "cell_type": "code",
   "execution_count": null,
   "outputs": [],
   "source": [
    "dummy_wind = pd.get_dummies(ds['wnd_dir'])\n",
    "data = pd.concat([ds, dummy_wind], axis=1)\n",
    "ds.drop(['wnd_dir'], axis=1, inplace=True)\n",
    "ds.head()"
   ],
   "metadata": {
    "collapsed": false
   }
  },
  {
   "cell_type": "markdown",
   "source": [
    "Feature Scaling"
   ],
   "metadata": {
    "collapsed": false
   }
  },
  {
   "cell_type": "code",
   "execution_count": null,
   "outputs": [],
   "source": [
    "from sklearn.preprocessing import MinMaxScaler\n",
    "\n",
    "X = ds.drop(columns=['snow', 'rain'])\n",
    "y = ds[['snow', 'rain']]\n",
    "\n",
    "scaler = MinMaxScaler()\n",
    "scaled_x = pd.DataFrame(scaler.fit_transform(X), columns=X.columns)\n",
    "\n",
    "ds = pd.concat([scaled_x, y], axis=1)\n",
    "\n",
    "ds.head()"
   ],
   "metadata": {
    "collapsed": false
   }
  },
  {
   "cell_type": "markdown",
   "source": [
    "Windowing"
   ],
   "metadata": {
    "collapsed": false
   }
  },
  {
   "cell_type": "code",
   "execution_count": null,
   "outputs": [],
   "source": [
    "X = []\n",
    "y = []\n",
    "\n",
    "sequence_length = 16\n",
    "for i in range(sequence_length, len(ds)):\n",
    "    X.append(ds.iloc[i-sequence_length:i].values)\n",
    "    y.append(ds.iloc[i][['snow', 'rain']])\n",
    "\n",
    "X, y = np.array(X), np.array(y)\n",
    "X.shape, y.shape"
   ],
   "metadata": {
    "collapsed": false
   }
  },
  {
   "cell_type": "markdown",
   "source": [],
   "metadata": {
    "collapsed": false
   }
  },
  {
   "cell_type": "markdown",
   "source": [
    "Train, Test, and Validation set splitting"
   ],
   "metadata": {
    "collapsed": false
   }
  },
  {
   "cell_type": "code",
   "execution_count": null,
   "outputs": [],
   "source": [
    "from sklearn.model_selection import train_test_split\n",
    "\n",
    "\n",
    "X_train, X_temp, y_train, y_temp = train_test_split(X, y, test_size=0.2, random_state=42)\n",
    "X_val, X_test, y_val, y_test = train_test_split(X_temp, y_temp, test_size=0.5, random_state=42)\n",
    "X_train.shape, X_val.shape, X_test.shape"
   ],
   "metadata": {
    "collapsed": false
   }
  },
  {
   "cell_type": "markdown",
   "source": [
    "Model"
   ],
   "metadata": {
    "collapsed": false
   }
  },
  {
   "cell_type": "code",
   "execution_count": null,
   "outputs": [],
   "source": [
    "model = tf.keras.Sequential([\n",
    "    Masking(mask_value=0., input_shape=(X_train.shape[1], X_train.shape[2])),\n",
    "\n",
    "    GRU(128, return_sequences=True),\n",
    "    LeakyReLU(negative_slope=0.01),\n",
    "\n",
    "    GRU(64),\n",
    "    LeakyReLU(negative_slope=0.01),\n",
    "\n",
    "    Dense(32),\n",
    "    LeakyReLU(negative_slope=0.01),\n",
    "\n",
    "    Dense(2)\n",
    "])\n",
    "\n",
    "model.compile(optimizer='adam', loss='mean_squared_error')\n",
    "\n",
    "history = model.fit(X_train, y_train, epochs=32, batch_size=4, validation_data=(X_val, y_val),\n",
    "                    callbacks=[tf.keras.callbacks.EarlyStopping(monitor='val_loss', patience=4)])"
   ],
   "metadata": {
    "collapsed": false
   }
  },
  {
   "cell_type": "markdown",
   "source": [
    "Plot Training Results"
   ],
   "metadata": {
    "collapsed": false
   }
  },
  {
   "cell_type": "code",
   "execution_count": null,
   "outputs": [],
   "source": [
    "plt.plot(history.history['loss'])\n",
    "plt.plot(history.history['val_loss'])\n",
    "plt.title('model loss')\n",
    "plt.ylabel('loss')\n",
    "plt.xlabel('epoch')\n",
    "plt.legend(['train', 'validation'], loc='upper left')"
   ],
   "metadata": {
    "collapsed": false
   }
  },
  {
   "cell_type": "markdown",
   "source": [
    "Show Test Results"
   ],
   "metadata": {
    "collapsed": false
   }
  },
  {
   "cell_type": "code",
   "execution_count": null,
   "outputs": [],
   "source": [
    "# Snow prediction\n",
    "plt.plot(y_pred[:, 0])\n",
    "plt.plot(y_test[:, 0])\n",
    "plt.title('Snow prediction')\n",
    "plt.ylabel('prediction')\n",
    "plt.xlabel('ith sample')"
   ],
   "metadata": {
    "collapsed": false
   }
  },
  {
   "cell_type": "code",
   "execution_count": null,
   "outputs": [],
   "source": [
    "# Rain prediction\n",
    "plt.plot(y_pred[:, 1])\n",
    "plt.plot(y_test[:, 1])\n",
    "\n",
    "plt.title('Rain prediction')\n",
    "plt.ylabel('prediction')\n",
    "plt.xlabel('ith sample')"
   ],
   "metadata": {
    "collapsed": false
   }
  },
  {
   "cell_type": "markdown",
   "source": [
    "Regression Scores"
   ],
   "metadata": {
    "collapsed": false
   }
  },
  {
   "cell_type": "code",
   "execution_count": null,
   "outputs": [],
   "source": [
    "from sklearn.metrics import mean_squared_error, r2_score\n",
    "y_pred = model.predict(X_test)\n",
    "\n",
    "\n",
    "print('Snow Result')\n",
    "snow_df = pd.DataFrame(index=['RMSE', 'MSE', 'R2'], columns=['Score'])\n",
    "snow_df.iloc[0, 0] = np.sqrt(mean_squared_error(y_test[:, 0], y_pred[:, 0]))\n",
    "snow_df.iloc[1, 0] = mean_squared_error(y_test[:, 0], y_pred[:, 0])\n",
    "snow_df.iloc[2, 0] = r2_score(y_test[:, 0], y_pred[:, 0])\n",
    "print(snow_df, '\\n')\n",
    "\n",
    "\n",
    "print('Rain Result')\n",
    "rain_df = pd.DataFrame(index=['RMSE', 'MSE', 'R2'], columns=['Score'])\n",
    "rain_df.iloc[0, 0] = np.sqrt(mean_squared_error(y_test[:, 1], y_pred[:, 1]))\n",
    "rain_df.iloc[1, 0] = mean_squared_error(y_test[:, 1], y_pred[:, 1])\n",
    "rain_df.iloc[2, 0] = r2_score(y_test[:, 0], y_pred[:, 1])\n",
    "print(rain_df)"
   ],
   "metadata": {
    "collapsed": false
   }
  }
 ],
 "metadata": {
  "kernelspec": {
   "display_name": "Python 3",
   "language": "python",
   "name": "python3"
  },
  "language_info": {
   "codemirror_mode": {
    "name": "ipython",
    "version": 2
   },
   "file_extension": ".py",
   "mimetype": "text/x-python",
   "name": "python",
   "nbconvert_exporter": "python",
   "pygments_lexer": "ipython2",
   "version": "2.7.6"
  }
 },
 "nbformat": 4,
 "nbformat_minor": 0
}
