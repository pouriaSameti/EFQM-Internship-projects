{
 "cells": [
  {
   "cell_type": "markdown",
   "source": [
    "# Libraries"
   ],
   "metadata": {
    "collapsed": false
   }
  },
  {
   "cell_type": "code",
   "execution_count": 52,
   "metadata": {
    "collapsed": true,
    "ExecuteTime": {
     "end_time": "2024-08-14T16:12:23.785002100Z",
     "start_time": "2024-08-14T16:12:23.752511900Z"
    }
   },
   "outputs": [],
   "source": [
    "import pandas as pd\n",
    "import numpy as np\n",
    "import seaborn as sns\n",
    "import matplotlib.pyplot as plt"
   ]
  },
  {
   "cell_type": "markdown",
   "source": [
    "# Checking Dataset"
   ],
   "metadata": {
    "collapsed": false
   }
  },
  {
   "cell_type": "code",
   "execution_count": 53,
   "outputs": [
    {
     "data": {
      "text/plain": "    Loan_ID Gender Married Dependents     Education Self_Employed  \\\n0  LP001002   Male      No          0      Graduate            No   \n1  LP001003   Male     Yes          1      Graduate            No   \n2  LP001005   Male     Yes          0      Graduate           Yes   \n3  LP001006   Male     Yes          0  Not Graduate            No   \n4  LP001008   Male      No          0      Graduate            No   \n\n   ApplicantIncome  CoapplicantIncome  LoanAmount  Loan_Amount_Term  \\\n0             5849                0.0         NaN             360.0   \n1             4583             1508.0       128.0             360.0   \n2             3000                0.0        66.0             360.0   \n3             2583             2358.0       120.0             360.0   \n4             6000                0.0       141.0             360.0   \n\n   Credit_History Property_Area Loan_Status  \n0             1.0         Urban           Y  \n1             1.0         Rural           N  \n2             1.0         Urban           Y  \n3             1.0         Urban           Y  \n4             1.0         Urban           Y  ",
      "text/html": "<div>\n<style scoped>\n    .dataframe tbody tr th:only-of-type {\n        vertical-align: middle;\n    }\n\n    .dataframe tbody tr th {\n        vertical-align: top;\n    }\n\n    .dataframe thead th {\n        text-align: right;\n    }\n</style>\n<table border=\"1\" class=\"dataframe\">\n  <thead>\n    <tr style=\"text-align: right;\">\n      <th></th>\n      <th>Loan_ID</th>\n      <th>Gender</th>\n      <th>Married</th>\n      <th>Dependents</th>\n      <th>Education</th>\n      <th>Self_Employed</th>\n      <th>ApplicantIncome</th>\n      <th>CoapplicantIncome</th>\n      <th>LoanAmount</th>\n      <th>Loan_Amount_Term</th>\n      <th>Credit_History</th>\n      <th>Property_Area</th>\n      <th>Loan_Status</th>\n    </tr>\n  </thead>\n  <tbody>\n    <tr>\n      <th>0</th>\n      <td>LP001002</td>\n      <td>Male</td>\n      <td>No</td>\n      <td>0</td>\n      <td>Graduate</td>\n      <td>No</td>\n      <td>5849</td>\n      <td>0.0</td>\n      <td>NaN</td>\n      <td>360.0</td>\n      <td>1.0</td>\n      <td>Urban</td>\n      <td>Y</td>\n    </tr>\n    <tr>\n      <th>1</th>\n      <td>LP001003</td>\n      <td>Male</td>\n      <td>Yes</td>\n      <td>1</td>\n      <td>Graduate</td>\n      <td>No</td>\n      <td>4583</td>\n      <td>1508.0</td>\n      <td>128.0</td>\n      <td>360.0</td>\n      <td>1.0</td>\n      <td>Rural</td>\n      <td>N</td>\n    </tr>\n    <tr>\n      <th>2</th>\n      <td>LP001005</td>\n      <td>Male</td>\n      <td>Yes</td>\n      <td>0</td>\n      <td>Graduate</td>\n      <td>Yes</td>\n      <td>3000</td>\n      <td>0.0</td>\n      <td>66.0</td>\n      <td>360.0</td>\n      <td>1.0</td>\n      <td>Urban</td>\n      <td>Y</td>\n    </tr>\n    <tr>\n      <th>3</th>\n      <td>LP001006</td>\n      <td>Male</td>\n      <td>Yes</td>\n      <td>0</td>\n      <td>Not Graduate</td>\n      <td>No</td>\n      <td>2583</td>\n      <td>2358.0</td>\n      <td>120.0</td>\n      <td>360.0</td>\n      <td>1.0</td>\n      <td>Urban</td>\n      <td>Y</td>\n    </tr>\n    <tr>\n      <th>4</th>\n      <td>LP001008</td>\n      <td>Male</td>\n      <td>No</td>\n      <td>0</td>\n      <td>Graduate</td>\n      <td>No</td>\n      <td>6000</td>\n      <td>0.0</td>\n      <td>141.0</td>\n      <td>360.0</td>\n      <td>1.0</td>\n      <td>Urban</td>\n      <td>Y</td>\n    </tr>\n  </tbody>\n</table>\n</div>"
     },
     "execution_count": 53,
     "metadata": {},
     "output_type": "execute_result"
    }
   ],
   "source": [
    "dataset = pd.read_csv('train(1).csv')\n",
    "dataset.head()"
   ],
   "metadata": {
    "collapsed": false,
    "ExecuteTime": {
     "end_time": "2024-08-14T16:12:23.785997100Z",
     "start_time": "2024-08-14T16:12:23.756518600Z"
    }
   }
  },
  {
   "cell_type": "code",
   "execution_count": 54,
   "outputs": [
    {
     "name": "stdout",
     "output_type": "stream",
     "text": [
      "<class 'pandas.core.frame.DataFrame'>\n",
      "RangeIndex: 614 entries, 0 to 613\n",
      "Data columns (total 13 columns):\n",
      " #   Column             Non-Null Count  Dtype  \n",
      "---  ------             --------------  -----  \n",
      " 0   Loan_ID            614 non-null    object \n",
      " 1   Gender             601 non-null    object \n",
      " 2   Married            611 non-null    object \n",
      " 3   Dependents         599 non-null    object \n",
      " 4   Education          614 non-null    object \n",
      " 5   Self_Employed      582 non-null    object \n",
      " 6   ApplicantIncome    614 non-null    int64  \n",
      " 7   CoapplicantIncome  614 non-null    float64\n",
      " 8   LoanAmount         592 non-null    float64\n",
      " 9   Loan_Amount_Term   600 non-null    float64\n",
      " 10  Credit_History     564 non-null    float64\n",
      " 11  Property_Area      614 non-null    object \n",
      " 12  Loan_Status        614 non-null    object \n",
      "dtypes: float64(4), int64(1), object(8)\n",
      "memory usage: 62.5+ KB\n"
     ]
    }
   ],
   "source": [
    "dataset.info()"
   ],
   "metadata": {
    "collapsed": false,
    "ExecuteTime": {
     "end_time": "2024-08-14T16:12:23.840835400Z",
     "start_time": "2024-08-14T16:12:23.766340200Z"
    }
   }
  },
  {
   "cell_type": "markdown",
   "source": [
    "# Splitting Data"
   ],
   "metadata": {
    "collapsed": false
   }
  },
  {
   "cell_type": "code",
   "execution_count": 55,
   "outputs": [],
   "source": [
    "from sklearn.model_selection import train_test_split\n",
    "X = dataset.drop(columns='Loan_Status')\n",
    "y = dataset['Loan_Status']\n",
    "\n",
    "x_train, x_test, y_train, y_test = train_test_split(X, y, test_size=0.2, random_state=42)"
   ],
   "metadata": {
    "collapsed": false,
    "ExecuteTime": {
     "end_time": "2024-08-14T16:12:23.842831700Z",
     "start_time": "2024-08-14T16:12:23.772578700Z"
    }
   }
  },
  {
   "cell_type": "markdown",
   "source": [
    "# Filling Categorical Features"
   ],
   "metadata": {
    "collapsed": false
   }
  },
  {
   "cell_type": "code",
   "execution_count": 56,
   "outputs": [],
   "source": [
    "def replace_object_features(dataset: pd.DataFrame):\n",
    "    for clm in dataset.columns:\n",
    "        if dataset[clm].dtype == 'object':\n",
    "            clean_column = dataset[clm].dropna()\n",
    "            mode = clean_column.mode()[0]\n",
    "            dataset[clm].fillna(mode, inplace=True)\n",
    "    return dataset\n",
    "\n",
    "x_train = replace_object_features(x_train)\n",
    "x_test = replace_object_features(x_test)"
   ],
   "metadata": {
    "collapsed": false,
    "ExecuteTime": {
     "end_time": "2024-08-14T16:12:23.843827700Z",
     "start_time": "2024-08-14T16:12:23.777794300Z"
    }
   }
  },
  {
   "cell_type": "markdown",
   "source": [
    "# Filling Numerical Features"
   ],
   "metadata": {
    "collapsed": false
   }
  },
  {
   "cell_type": "code",
   "execution_count": 57,
   "outputs": [],
   "source": [
    "def replace_numerical_features(dataset: pd.DataFrame):\n",
    "    for clm in dataset.columns:\n",
    "        if (dataset[clm].dtype == np.float64) or (dataset[clm].dtype == np.int64):\n",
    "            clean_column = dataset[clm].dropna()\n",
    "            mean = clean_column.mean()\n",
    "            dataset[clm].fillna(mean, inplace=True)\n",
    "    return dataset\n",
    "\n",
    "x_train = replace_numerical_features(x_train)\n",
    "x_test = replace_numerical_features(x_test)"
   ],
   "metadata": {
    "collapsed": false,
    "ExecuteTime": {
     "end_time": "2024-08-14T16:12:23.861000300Z",
     "start_time": "2024-08-14T16:12:23.790482100Z"
    }
   }
  },
  {
   "cell_type": "markdown",
   "source": [
    "# Check NAN values"
   ],
   "metadata": {
    "collapsed": false
   }
  },
  {
   "cell_type": "code",
   "execution_count": 58,
   "outputs": [
    {
     "name": "stdout",
     "output_type": "stream",
     "text": [
      "Train\n",
      "Loan_ID              0\n",
      "Gender               0\n",
      "Married              0\n",
      "Dependents           0\n",
      "Education            0\n",
      "Self_Employed        0\n",
      "ApplicantIncome      0\n",
      "CoapplicantIncome    0\n",
      "LoanAmount           0\n",
      "Loan_Amount_Term     0\n",
      "Credit_History       0\n",
      "Property_Area        0\n",
      "dtype: int64\n",
      "\n",
      "\n",
      "Test\n",
      "Loan_ID              0\n",
      "Gender               0\n",
      "Married              0\n",
      "Dependents           0\n",
      "Education            0\n",
      "Self_Employed        0\n",
      "ApplicantIncome      0\n",
      "CoapplicantIncome    0\n",
      "LoanAmount           0\n",
      "Loan_Amount_Term     0\n",
      "Credit_History       0\n",
      "Property_Area        0\n",
      "dtype: int64\n"
     ]
    }
   ],
   "source": [
    "print('Train', x_train.isnull().sum(), sep='\\n')\n",
    "print('\\n\\nTest', x_test.isnull().sum(), sep='\\n')"
   ],
   "metadata": {
    "collapsed": false,
    "ExecuteTime": {
     "end_time": "2024-08-14T16:12:23.872204300Z",
     "start_time": "2024-08-14T16:12:23.793487500Z"
    }
   }
  },
  {
   "cell_type": "markdown",
   "source": [
    "# Replace values\n",
    "## replacing string with number"
   ],
   "metadata": {
    "collapsed": false
   }
  },
  {
   "cell_type": "code",
   "execution_count": 59,
   "outputs": [
    {
     "data": {
      "text/plain": "      Loan_ID Gender  Married Dependents Education  Self_Employed  \\\n83   LP001273   Male        1          0  Graduate              0   \n90   LP001316   Male        1          0  Graduate              0   \n227  LP001758   Male        1          2  Graduate              0   \n482  LP002537   Male        1          0  Graduate              0   \n464  LP002493   Male        0          0  Graduate              0   \n\n     ApplicantIncome  CoapplicantIncome  LoanAmount  Loan_Amount_Term  \\\n83              6000             2250.0       265.0             360.0   \n90              2958             2900.0       131.0             360.0   \n227             6250             1695.0       210.0             360.0   \n482             2083             3150.0       128.0             360.0   \n464             4166                0.0        98.0             360.0   \n\n     Credit_History Property_Area  \n83         0.844789     Semiurban  \n90         1.000000     Semiurban  \n227        1.000000     Semiurban  \n482        1.000000     Semiurban  \n464        0.000000     Semiurban  ",
      "text/html": "<div>\n<style scoped>\n    .dataframe tbody tr th:only-of-type {\n        vertical-align: middle;\n    }\n\n    .dataframe tbody tr th {\n        vertical-align: top;\n    }\n\n    .dataframe thead th {\n        text-align: right;\n    }\n</style>\n<table border=\"1\" class=\"dataframe\">\n  <thead>\n    <tr style=\"text-align: right;\">\n      <th></th>\n      <th>Loan_ID</th>\n      <th>Gender</th>\n      <th>Married</th>\n      <th>Dependents</th>\n      <th>Education</th>\n      <th>Self_Employed</th>\n      <th>ApplicantIncome</th>\n      <th>CoapplicantIncome</th>\n      <th>LoanAmount</th>\n      <th>Loan_Amount_Term</th>\n      <th>Credit_History</th>\n      <th>Property_Area</th>\n    </tr>\n  </thead>\n  <tbody>\n    <tr>\n      <th>83</th>\n      <td>LP001273</td>\n      <td>Male</td>\n      <td>1</td>\n      <td>0</td>\n      <td>Graduate</td>\n      <td>0</td>\n      <td>6000</td>\n      <td>2250.0</td>\n      <td>265.0</td>\n      <td>360.0</td>\n      <td>0.844789</td>\n      <td>Semiurban</td>\n    </tr>\n    <tr>\n      <th>90</th>\n      <td>LP001316</td>\n      <td>Male</td>\n      <td>1</td>\n      <td>0</td>\n      <td>Graduate</td>\n      <td>0</td>\n      <td>2958</td>\n      <td>2900.0</td>\n      <td>131.0</td>\n      <td>360.0</td>\n      <td>1.000000</td>\n      <td>Semiurban</td>\n    </tr>\n    <tr>\n      <th>227</th>\n      <td>LP001758</td>\n      <td>Male</td>\n      <td>1</td>\n      <td>2</td>\n      <td>Graduate</td>\n      <td>0</td>\n      <td>6250</td>\n      <td>1695.0</td>\n      <td>210.0</td>\n      <td>360.0</td>\n      <td>1.000000</td>\n      <td>Semiurban</td>\n    </tr>\n    <tr>\n      <th>482</th>\n      <td>LP002537</td>\n      <td>Male</td>\n      <td>1</td>\n      <td>0</td>\n      <td>Graduate</td>\n      <td>0</td>\n      <td>2083</td>\n      <td>3150.0</td>\n      <td>128.0</td>\n      <td>360.0</td>\n      <td>1.000000</td>\n      <td>Semiurban</td>\n    </tr>\n    <tr>\n      <th>464</th>\n      <td>LP002493</td>\n      <td>Male</td>\n      <td>0</td>\n      <td>0</td>\n      <td>Graduate</td>\n      <td>0</td>\n      <td>4166</td>\n      <td>0.0</td>\n      <td>98.0</td>\n      <td>360.0</td>\n      <td>0.000000</td>\n      <td>Semiurban</td>\n    </tr>\n  </tbody>\n</table>\n</div>"
     },
     "execution_count": 59,
     "metadata": {},
     "output_type": "execute_result"
    }
   ],
   "source": [
    "x_train['Married'] = x_train['Married'].replace({'Yes': 1, 'No': 0})\n",
    "x_test['Married'] = x_test['Married'].replace({'Yes': 1, 'No': 0})\n",
    "\n",
    "x_train['Self_Employed'] = x_train['Self_Employed'].replace({'Yes': 1, 'No': 0})\n",
    "x_test['Self_Employed'] = x_test['Self_Employed'].replace({'Yes': 1, 'No': 0})\n",
    "x_train.head()"
   ],
   "metadata": {
    "collapsed": false,
    "ExecuteTime": {
     "end_time": "2024-08-14T16:12:23.873202Z",
     "start_time": "2024-08-14T16:12:23.797993300Z"
    }
   }
  },
  {
   "cell_type": "code",
   "execution_count": 60,
   "outputs": [
    {
     "data": {
      "text/plain": "      Loan_ID Gender  Married  Dependents Education  Self_Employed  \\\n83   LP001273   Male        1           0  Graduate              0   \n90   LP001316   Male        1           0  Graduate              0   \n227  LP001758   Male        1           2  Graduate              0   \n482  LP002537   Male        1           0  Graduate              0   \n464  LP002493   Male        0           0  Graduate              0   \n\n     ApplicantIncome  CoapplicantIncome  LoanAmount  Loan_Amount_Term  \\\n83              6000             2250.0       265.0             360.0   \n90              2958             2900.0       131.0             360.0   \n227             6250             1695.0       210.0             360.0   \n482             2083             3150.0       128.0             360.0   \n464             4166                0.0        98.0             360.0   \n\n     Credit_History Property_Area  \n83         0.844789     Semiurban  \n90         1.000000     Semiurban  \n227        1.000000     Semiurban  \n482        1.000000     Semiurban  \n464        0.000000     Semiurban  ",
      "text/html": "<div>\n<style scoped>\n    .dataframe tbody tr th:only-of-type {\n        vertical-align: middle;\n    }\n\n    .dataframe tbody tr th {\n        vertical-align: top;\n    }\n\n    .dataframe thead th {\n        text-align: right;\n    }\n</style>\n<table border=\"1\" class=\"dataframe\">\n  <thead>\n    <tr style=\"text-align: right;\">\n      <th></th>\n      <th>Loan_ID</th>\n      <th>Gender</th>\n      <th>Married</th>\n      <th>Dependents</th>\n      <th>Education</th>\n      <th>Self_Employed</th>\n      <th>ApplicantIncome</th>\n      <th>CoapplicantIncome</th>\n      <th>LoanAmount</th>\n      <th>Loan_Amount_Term</th>\n      <th>Credit_History</th>\n      <th>Property_Area</th>\n    </tr>\n  </thead>\n  <tbody>\n    <tr>\n      <th>83</th>\n      <td>LP001273</td>\n      <td>Male</td>\n      <td>1</td>\n      <td>0</td>\n      <td>Graduate</td>\n      <td>0</td>\n      <td>6000</td>\n      <td>2250.0</td>\n      <td>265.0</td>\n      <td>360.0</td>\n      <td>0.844789</td>\n      <td>Semiurban</td>\n    </tr>\n    <tr>\n      <th>90</th>\n      <td>LP001316</td>\n      <td>Male</td>\n      <td>1</td>\n      <td>0</td>\n      <td>Graduate</td>\n      <td>0</td>\n      <td>2958</td>\n      <td>2900.0</td>\n      <td>131.0</td>\n      <td>360.0</td>\n      <td>1.000000</td>\n      <td>Semiurban</td>\n    </tr>\n    <tr>\n      <th>227</th>\n      <td>LP001758</td>\n      <td>Male</td>\n      <td>1</td>\n      <td>2</td>\n      <td>Graduate</td>\n      <td>0</td>\n      <td>6250</td>\n      <td>1695.0</td>\n      <td>210.0</td>\n      <td>360.0</td>\n      <td>1.000000</td>\n      <td>Semiurban</td>\n    </tr>\n    <tr>\n      <th>482</th>\n      <td>LP002537</td>\n      <td>Male</td>\n      <td>1</td>\n      <td>0</td>\n      <td>Graduate</td>\n      <td>0</td>\n      <td>2083</td>\n      <td>3150.0</td>\n      <td>128.0</td>\n      <td>360.0</td>\n      <td>1.000000</td>\n      <td>Semiurban</td>\n    </tr>\n    <tr>\n      <th>464</th>\n      <td>LP002493</td>\n      <td>Male</td>\n      <td>0</td>\n      <td>0</td>\n      <td>Graduate</td>\n      <td>0</td>\n      <td>4166</td>\n      <td>0.0</td>\n      <td>98.0</td>\n      <td>360.0</td>\n      <td>0.000000</td>\n      <td>Semiurban</td>\n    </tr>\n  </tbody>\n</table>\n</div>"
     },
     "execution_count": 60,
     "metadata": {},
     "output_type": "execute_result"
    }
   ],
   "source": [
    "x_train['Dependents'] = x_train['Dependents'].replace({'0':0, '1':1, '2':2, '3+':3})\n",
    "x_test['Dependents'] = x_test['Dependents'].replace({'0':0, '1':1, '2':2, '3+':3})\n",
    "x_train.head()"
   ],
   "metadata": {
    "collapsed": false,
    "ExecuteTime": {
     "end_time": "2024-08-14T16:12:23.873202Z",
     "start_time": "2024-08-14T16:12:23.807822900Z"
    }
   }
  },
  {
   "cell_type": "code",
   "execution_count": 61,
   "outputs": [
    {
     "data": {
      "text/plain": "      Loan_ID Gender  Married  Dependents  Education  Self_Employed  \\\n83   LP001273   Male        1           0          1              0   \n90   LP001316   Male        1           0          1              0   \n227  LP001758   Male        1           2          1              0   \n482  LP002537   Male        1           0          1              0   \n464  LP002493   Male        0           0          1              0   \n\n     ApplicantIncome  CoapplicantIncome  LoanAmount  Loan_Amount_Term  \\\n83              6000             2250.0       265.0             360.0   \n90              2958             2900.0       131.0             360.0   \n227             6250             1695.0       210.0             360.0   \n482             2083             3150.0       128.0             360.0   \n464             4166                0.0        98.0             360.0   \n\n     Credit_History Property_Area  \n83         0.844789     Semiurban  \n90         1.000000     Semiurban  \n227        1.000000     Semiurban  \n482        1.000000     Semiurban  \n464        0.000000     Semiurban  ",
      "text/html": "<div>\n<style scoped>\n    .dataframe tbody tr th:only-of-type {\n        vertical-align: middle;\n    }\n\n    .dataframe tbody tr th {\n        vertical-align: top;\n    }\n\n    .dataframe thead th {\n        text-align: right;\n    }\n</style>\n<table border=\"1\" class=\"dataframe\">\n  <thead>\n    <tr style=\"text-align: right;\">\n      <th></th>\n      <th>Loan_ID</th>\n      <th>Gender</th>\n      <th>Married</th>\n      <th>Dependents</th>\n      <th>Education</th>\n      <th>Self_Employed</th>\n      <th>ApplicantIncome</th>\n      <th>CoapplicantIncome</th>\n      <th>LoanAmount</th>\n      <th>Loan_Amount_Term</th>\n      <th>Credit_History</th>\n      <th>Property_Area</th>\n    </tr>\n  </thead>\n  <tbody>\n    <tr>\n      <th>83</th>\n      <td>LP001273</td>\n      <td>Male</td>\n      <td>1</td>\n      <td>0</td>\n      <td>1</td>\n      <td>0</td>\n      <td>6000</td>\n      <td>2250.0</td>\n      <td>265.0</td>\n      <td>360.0</td>\n      <td>0.844789</td>\n      <td>Semiurban</td>\n    </tr>\n    <tr>\n      <th>90</th>\n      <td>LP001316</td>\n      <td>Male</td>\n      <td>1</td>\n      <td>0</td>\n      <td>1</td>\n      <td>0</td>\n      <td>2958</td>\n      <td>2900.0</td>\n      <td>131.0</td>\n      <td>360.0</td>\n      <td>1.000000</td>\n      <td>Semiurban</td>\n    </tr>\n    <tr>\n      <th>227</th>\n      <td>LP001758</td>\n      <td>Male</td>\n      <td>1</td>\n      <td>2</td>\n      <td>1</td>\n      <td>0</td>\n      <td>6250</td>\n      <td>1695.0</td>\n      <td>210.0</td>\n      <td>360.0</td>\n      <td>1.000000</td>\n      <td>Semiurban</td>\n    </tr>\n    <tr>\n      <th>482</th>\n      <td>LP002537</td>\n      <td>Male</td>\n      <td>1</td>\n      <td>0</td>\n      <td>1</td>\n      <td>0</td>\n      <td>2083</td>\n      <td>3150.0</td>\n      <td>128.0</td>\n      <td>360.0</td>\n      <td>1.000000</td>\n      <td>Semiurban</td>\n    </tr>\n    <tr>\n      <th>464</th>\n      <td>LP002493</td>\n      <td>Male</td>\n      <td>0</td>\n      <td>0</td>\n      <td>1</td>\n      <td>0</td>\n      <td>4166</td>\n      <td>0.0</td>\n      <td>98.0</td>\n      <td>360.0</td>\n      <td>0.000000</td>\n      <td>Semiurban</td>\n    </tr>\n  </tbody>\n</table>\n</div>"
     },
     "execution_count": 61,
     "metadata": {},
     "output_type": "execute_result"
    }
   ],
   "source": [
    "x_train['Education'] = x_train['Education'].replace({'Graduate':1, 'Not Graduate': 0})\n",
    "x_test['Education'] = x_test['Education'].replace({'Graduate':1, 'Not Graduate': 0})\n",
    "x_train.head()"
   ],
   "metadata": {
    "collapsed": false,
    "ExecuteTime": {
     "end_time": "2024-08-14T16:12:23.906966600Z",
     "start_time": "2024-08-14T16:12:23.824227Z"
    }
   }
  },
  {
   "cell_type": "code",
   "execution_count": 62,
   "outputs": [
    {
     "data": {
      "text/plain": "     Married  Dependents  Education  Self_Employed  ApplicantIncome  \\\n83         1           0          1              0             6000   \n90         1           0          1              0             2958   \n227        1           2          1              0             6250   \n482        1           0          1              0             2083   \n464        0           0          1              0             4166   \n\n     CoapplicantIncome  LoanAmount  Loan_Amount_Term  Credit_History  \\\n83              2250.0       265.0             360.0        0.844789   \n90              2900.0       131.0             360.0        1.000000   \n227             1695.0       210.0             360.0        1.000000   \n482             3150.0       128.0             360.0        1.000000   \n464                0.0        98.0             360.0        0.000000   \n\n    Property_Area  Female  Male  \n83      Semiurban   False  True  \n90      Semiurban   False  True  \n227     Semiurban   False  True  \n482     Semiurban   False  True  \n464     Semiurban   False  True  ",
      "text/html": "<div>\n<style scoped>\n    .dataframe tbody tr th:only-of-type {\n        vertical-align: middle;\n    }\n\n    .dataframe tbody tr th {\n        vertical-align: top;\n    }\n\n    .dataframe thead th {\n        text-align: right;\n    }\n</style>\n<table border=\"1\" class=\"dataframe\">\n  <thead>\n    <tr style=\"text-align: right;\">\n      <th></th>\n      <th>Married</th>\n      <th>Dependents</th>\n      <th>Education</th>\n      <th>Self_Employed</th>\n      <th>ApplicantIncome</th>\n      <th>CoapplicantIncome</th>\n      <th>LoanAmount</th>\n      <th>Loan_Amount_Term</th>\n      <th>Credit_History</th>\n      <th>Property_Area</th>\n      <th>Female</th>\n      <th>Male</th>\n    </tr>\n  </thead>\n  <tbody>\n    <tr>\n      <th>83</th>\n      <td>1</td>\n      <td>0</td>\n      <td>1</td>\n      <td>0</td>\n      <td>6000</td>\n      <td>2250.0</td>\n      <td>265.0</td>\n      <td>360.0</td>\n      <td>0.844789</td>\n      <td>Semiurban</td>\n      <td>False</td>\n      <td>True</td>\n    </tr>\n    <tr>\n      <th>90</th>\n      <td>1</td>\n      <td>0</td>\n      <td>1</td>\n      <td>0</td>\n      <td>2958</td>\n      <td>2900.0</td>\n      <td>131.0</td>\n      <td>360.0</td>\n      <td>1.000000</td>\n      <td>Semiurban</td>\n      <td>False</td>\n      <td>True</td>\n    </tr>\n    <tr>\n      <th>227</th>\n      <td>1</td>\n      <td>2</td>\n      <td>1</td>\n      <td>0</td>\n      <td>6250</td>\n      <td>1695.0</td>\n      <td>210.0</td>\n      <td>360.0</td>\n      <td>1.000000</td>\n      <td>Semiurban</td>\n      <td>False</td>\n      <td>True</td>\n    </tr>\n    <tr>\n      <th>482</th>\n      <td>1</td>\n      <td>0</td>\n      <td>1</td>\n      <td>0</td>\n      <td>2083</td>\n      <td>3150.0</td>\n      <td>128.0</td>\n      <td>360.0</td>\n      <td>1.000000</td>\n      <td>Semiurban</td>\n      <td>False</td>\n      <td>True</td>\n    </tr>\n    <tr>\n      <th>464</th>\n      <td>0</td>\n      <td>0</td>\n      <td>1</td>\n      <td>0</td>\n      <td>4166</td>\n      <td>0.0</td>\n      <td>98.0</td>\n      <td>360.0</td>\n      <td>0.000000</td>\n      <td>Semiurban</td>\n      <td>False</td>\n      <td>True</td>\n    </tr>\n  </tbody>\n</table>\n</div>"
     },
     "execution_count": 62,
     "metadata": {},
     "output_type": "execute_result"
    }
   ],
   "source": [
    "x_train_dummy_gender = pd.get_dummies(x_train['Gender'])\n",
    "x_train = pd.concat([x_train, x_train_dummy_gender], axis=1)\n",
    "\n",
    "x_test_dummy_gender = pd.get_dummies(x_test['Gender'])\n",
    "x_test = pd.concat([x_test, x_test_dummy_gender], axis=1)\n",
    "\n",
    "\n",
    "x_train = x_train.drop(columns=['Gender', 'Loan_ID'])\n",
    "x_test = x_test.drop(columns=['Gender', 'Loan_ID'])\n",
    "x_train.head()"
   ],
   "metadata": {
    "collapsed": false,
    "ExecuteTime": {
     "end_time": "2024-08-14T16:12:23.907962700Z",
     "start_time": "2024-08-14T16:12:23.828233500Z"
    }
   }
  },
  {
   "cell_type": "code",
   "execution_count": 63,
   "outputs": [
    {
     "name": "stdout",
     "output_type": "stream",
     "text": [
      "Property_Area\n",
      "Semiurban    233\n",
      "Urban        202\n",
      "Rural        179\n",
      "Name: count, dtype: int64\n"
     ]
    },
    {
     "data": {
      "text/plain": "     Married  Dependents  Education  Self_Employed  ApplicantIncome  \\\n83         1           0          1              0             6000   \n90         1           0          1              0             2958   \n227        1           2          1              0             6250   \n482        1           0          1              0             2083   \n464        0           0          1              0             4166   \n\n     CoapplicantIncome  LoanAmount  Loan_Amount_Term  Credit_History  \\\n83              2250.0       265.0             360.0        0.844789   \n90              2900.0       131.0             360.0        1.000000   \n227             1695.0       210.0             360.0        1.000000   \n482             3150.0       128.0             360.0        1.000000   \n464                0.0        98.0             360.0        0.000000   \n\n     Property_Area  Female  Male  \n83               2   False  True  \n90               2   False  True  \n227              2   False  True  \n482              2   False  True  \n464              2   False  True  ",
      "text/html": "<div>\n<style scoped>\n    .dataframe tbody tr th:only-of-type {\n        vertical-align: middle;\n    }\n\n    .dataframe tbody tr th {\n        vertical-align: top;\n    }\n\n    .dataframe thead th {\n        text-align: right;\n    }\n</style>\n<table border=\"1\" class=\"dataframe\">\n  <thead>\n    <tr style=\"text-align: right;\">\n      <th></th>\n      <th>Married</th>\n      <th>Dependents</th>\n      <th>Education</th>\n      <th>Self_Employed</th>\n      <th>ApplicantIncome</th>\n      <th>CoapplicantIncome</th>\n      <th>LoanAmount</th>\n      <th>Loan_Amount_Term</th>\n      <th>Credit_History</th>\n      <th>Property_Area</th>\n      <th>Female</th>\n      <th>Male</th>\n    </tr>\n  </thead>\n  <tbody>\n    <tr>\n      <th>83</th>\n      <td>1</td>\n      <td>0</td>\n      <td>1</td>\n      <td>0</td>\n      <td>6000</td>\n      <td>2250.0</td>\n      <td>265.0</td>\n      <td>360.0</td>\n      <td>0.844789</td>\n      <td>2</td>\n      <td>False</td>\n      <td>True</td>\n    </tr>\n    <tr>\n      <th>90</th>\n      <td>1</td>\n      <td>0</td>\n      <td>1</td>\n      <td>0</td>\n      <td>2958</td>\n      <td>2900.0</td>\n      <td>131.0</td>\n      <td>360.0</td>\n      <td>1.000000</td>\n      <td>2</td>\n      <td>False</td>\n      <td>True</td>\n    </tr>\n    <tr>\n      <th>227</th>\n      <td>1</td>\n      <td>2</td>\n      <td>1</td>\n      <td>0</td>\n      <td>6250</td>\n      <td>1695.0</td>\n      <td>210.0</td>\n      <td>360.0</td>\n      <td>1.000000</td>\n      <td>2</td>\n      <td>False</td>\n      <td>True</td>\n    </tr>\n    <tr>\n      <th>482</th>\n      <td>1</td>\n      <td>0</td>\n      <td>1</td>\n      <td>0</td>\n      <td>2083</td>\n      <td>3150.0</td>\n      <td>128.0</td>\n      <td>360.0</td>\n      <td>1.000000</td>\n      <td>2</td>\n      <td>False</td>\n      <td>True</td>\n    </tr>\n    <tr>\n      <th>464</th>\n      <td>0</td>\n      <td>0</td>\n      <td>1</td>\n      <td>0</td>\n      <td>4166</td>\n      <td>0.0</td>\n      <td>98.0</td>\n      <td>360.0</td>\n      <td>0.000000</td>\n      <td>2</td>\n      <td>False</td>\n      <td>True</td>\n    </tr>\n  </tbody>\n</table>\n</div>"
     },
     "execution_count": 63,
     "metadata": {},
     "output_type": "execute_result"
    }
   ],
   "source": [
    "print(dataset['Property_Area'].value_counts())\n",
    "x_train['Property_Area'] = x_train['Property_Area'].replace({'Urban':3, 'Semiurban':2, 'Rural':1})\n",
    "x_test['Property_Area'] = x_test['Property_Area'].replace({'Urban':3, 'Semiurban':2, 'Rural':1})\n",
    "\n",
    "x_train.head()"
   ],
   "metadata": {
    "collapsed": false,
    "ExecuteTime": {
     "end_time": "2024-08-14T16:12:23.922679Z",
     "start_time": "2024-08-14T16:12:23.840835400Z"
    }
   }
  },
  {
   "cell_type": "markdown",
   "source": [
    "# Feature Scaling"
   ],
   "metadata": {
    "collapsed": false
   }
  },
  {
   "cell_type": "code",
   "execution_count": 64,
   "outputs": [
    {
     "data": {
      "text/plain": "   Married  Dependents  Education  Self_Employed  ApplicantIncome  \\\n0      1.0    0.000000        1.0            0.0         0.072356   \n1      1.0    0.000000        1.0            0.0         0.034731   \n2      1.0    0.666667        1.0            0.0         0.075448   \n3      1.0    0.000000        1.0            0.0         0.023908   \n4      0.0    0.000000        1.0            0.0         0.049672   \n\n   CoapplicantIncome  LoanAmount  Loan_Amount_Term  Credit_History  \\\n0           0.054000    0.363104           0.74359        0.844789   \n1           0.069599    0.166911           0.74359        1.000000   \n2           0.040680    0.282577           0.74359        1.000000   \n3           0.075599    0.162518           0.74359        1.000000   \n4           0.000000    0.118594           0.74359        0.000000   \n\n   Property_Area  Female  Male  \n0            0.5     0.0   1.0  \n1            0.5     0.0   1.0  \n2            0.5     0.0   1.0  \n3            0.5     0.0   1.0  \n4            0.5     0.0   1.0  ",
      "text/html": "<div>\n<style scoped>\n    .dataframe tbody tr th:only-of-type {\n        vertical-align: middle;\n    }\n\n    .dataframe tbody tr th {\n        vertical-align: top;\n    }\n\n    .dataframe thead th {\n        text-align: right;\n    }\n</style>\n<table border=\"1\" class=\"dataframe\">\n  <thead>\n    <tr style=\"text-align: right;\">\n      <th></th>\n      <th>Married</th>\n      <th>Dependents</th>\n      <th>Education</th>\n      <th>Self_Employed</th>\n      <th>ApplicantIncome</th>\n      <th>CoapplicantIncome</th>\n      <th>LoanAmount</th>\n      <th>Loan_Amount_Term</th>\n      <th>Credit_History</th>\n      <th>Property_Area</th>\n      <th>Female</th>\n      <th>Male</th>\n    </tr>\n  </thead>\n  <tbody>\n    <tr>\n      <th>0</th>\n      <td>1.0</td>\n      <td>0.000000</td>\n      <td>1.0</td>\n      <td>0.0</td>\n      <td>0.072356</td>\n      <td>0.054000</td>\n      <td>0.363104</td>\n      <td>0.74359</td>\n      <td>0.844789</td>\n      <td>0.5</td>\n      <td>0.0</td>\n      <td>1.0</td>\n    </tr>\n    <tr>\n      <th>1</th>\n      <td>1.0</td>\n      <td>0.000000</td>\n      <td>1.0</td>\n      <td>0.0</td>\n      <td>0.034731</td>\n      <td>0.069599</td>\n      <td>0.166911</td>\n      <td>0.74359</td>\n      <td>1.000000</td>\n      <td>0.5</td>\n      <td>0.0</td>\n      <td>1.0</td>\n    </tr>\n    <tr>\n      <th>2</th>\n      <td>1.0</td>\n      <td>0.666667</td>\n      <td>1.0</td>\n      <td>0.0</td>\n      <td>0.075448</td>\n      <td>0.040680</td>\n      <td>0.282577</td>\n      <td>0.74359</td>\n      <td>1.000000</td>\n      <td>0.5</td>\n      <td>0.0</td>\n      <td>1.0</td>\n    </tr>\n    <tr>\n      <th>3</th>\n      <td>1.0</td>\n      <td>0.000000</td>\n      <td>1.0</td>\n      <td>0.0</td>\n      <td>0.023908</td>\n      <td>0.075599</td>\n      <td>0.162518</td>\n      <td>0.74359</td>\n      <td>1.000000</td>\n      <td>0.5</td>\n      <td>0.0</td>\n      <td>1.0</td>\n    </tr>\n    <tr>\n      <th>4</th>\n      <td>0.0</td>\n      <td>0.000000</td>\n      <td>1.0</td>\n      <td>0.0</td>\n      <td>0.049672</td>\n      <td>0.000000</td>\n      <td>0.118594</td>\n      <td>0.74359</td>\n      <td>0.000000</td>\n      <td>0.5</td>\n      <td>0.0</td>\n      <td>1.0</td>\n    </tr>\n  </tbody>\n</table>\n</div>"
     },
     "execution_count": 64,
     "metadata": {},
     "output_type": "execute_result"
    }
   ],
   "source": [
    "from sklearn.preprocessing import MinMaxScaler\n",
    "\n",
    "scaler = MinMaxScaler()\n",
    "x_train = pd.DataFrame(scaler.fit_transform(x_train), columns=x_train.columns)\n",
    "x_test = pd.DataFrame(scaler.fit_transform(x_test), columns=x_test.columns)\n",
    "\n",
    "x_train.head()"
   ],
   "metadata": {
    "collapsed": false,
    "ExecuteTime": {
     "end_time": "2024-08-14T16:12:23.926659300Z",
     "start_time": "2024-08-14T16:12:23.852460500Z"
    }
   }
  },
  {
   "cell_type": "code",
   "execution_count": 64,
   "outputs": [],
   "source": [],
   "metadata": {
    "collapsed": false,
    "ExecuteTime": {
     "end_time": "2024-08-14T16:12:23.926659300Z",
     "start_time": "2024-08-14T16:12:23.865622900Z"
    }
   }
  }
 ],
 "metadata": {
  "kernelspec": {
   "display_name": "Python 3",
   "language": "python",
   "name": "python3"
  },
  "language_info": {
   "codemirror_mode": {
    "name": "ipython",
    "version": 2
   },
   "file_extension": ".py",
   "mimetype": "text/x-python",
   "name": "python",
   "nbconvert_exporter": "python",
   "pygments_lexer": "ipython2",
   "version": "2.7.6"
  }
 },
 "nbformat": 4,
 "nbformat_minor": 0
}
